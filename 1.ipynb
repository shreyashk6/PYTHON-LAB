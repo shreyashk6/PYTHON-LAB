{
 "cells": [
  {
   "cell_type": "code",
   "execution_count": null,
   "metadata": {
    "vscode": {
     "languageId": "plaintext"
    }
   },
   "outputs": [],
   "source": [
    "import sys\n",
    "\n",
    "class Graph:\n",
    "    def __init__(self, vertices):\n",
    "        self.V = vertices\n",
    "        self.graph = [[0 for _ in range(vertices)] for _ in range(vertices)]\n",
    "\n",
    "    def add_edge(self, u, v, weight):\n",
    "        self.graph[u][v] = weight\n",
    "        self.graph[v][u] = weight\n",
    "\n",
    "    def print_mst(self, parent):\n",
    "        print(\"TS --Connect to -->TS    Cost\")\n",
    "        for i in range(1, self.V):\n",
    "            print(f\"   {i} --      {parent[i]}    {self.graph[i][parent[i]]}\")\n",
    "\n",
    "    def prim_mst(self):\n",
    "        key = [sys.maxsize] * self.V\n",
    "        parent = [None] * self.V\n",
    "        key[0] = 0\n",
    "        mst_set = [False] * self.V\n",
    "\n",
    "        parent[0] = -1\n",
    "\n",
    "        for _ in range(self.V):\n",
    "            min_key = sys.maxsize\n",
    "            min_index = 0\n",
    "\n",
    "            for v in range(self.V):\n",
    "                if key[v] < min_key and not mst_set[v]:\n",
    "                    min_key = key[v]\n",
    "                    min_index = v\n",
    "\n",
    "            mst_set[min_index] = True\n",
    "\n",
    "            for v in range(self.V):\n",
    "                if self.graph[min_index][v] > 0 and not mst_set[v] and self.graph[min_index][v] < key[v]:\n",
    "                    key[v] = self.graph[min_index][v]\n",
    "                    parent[v] = min_index\n",
    "\n",
    "        self.print_mst(parent)\n",
    "\n",
    "\n",
    "# Accepting user input\n",
    "n = int(input(\"Enter the number of thermal power stations: \"))\n",
    "g = Graph(n)\n",
    "\n",
    "print(\"Enter the cost of electrification for each connection:\")\n",
    "for i in range(n):\n",
    "    for j in range(i+1, n):\n",
    "        cost = int(input(f\"Enter the cost between thermal station {i} and {j}: \"))\n",
    "        g.add_edge(i, j, cost)\n",
    "\n",
    "# Compute and display the minimum cost connection\n",
    "g.prim_mst()"
   ]
  }
 ],
 "metadata": {
  "language_info": {
   "name": "python"
  },
  "orig_nbformat": 4
 },
 "nbformat": 4,
 "nbformat_minor": 2
}
